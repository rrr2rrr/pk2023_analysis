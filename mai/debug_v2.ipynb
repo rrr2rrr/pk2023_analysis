{
 "cells": [
  {
   "cell_type": "code",
   "execution_count": 1,
   "outputs": [],
   "source": [
    "%load_ext autoreload\n",
    "%autoreload 2"
   ],
   "metadata": {
    "collapsed": false,
    "ExecuteTime": {
     "end_time": "2023-07-28T11:42:34.433314Z",
     "start_time": "2023-07-28T11:42:34.423911Z"
    }
   }
  },
  {
   "cell_type": "code",
   "execution_count": 2,
   "outputs": [],
   "source": [
    "from scrape_data import get_all_links\n",
    "from scrape_data import scrape_abitu"
   ],
   "metadata": {
    "collapsed": false,
    "ExecuteTime": {
     "end_time": "2023-07-28T11:42:36.614417Z",
     "start_time": "2023-07-28T11:42:36.234156Z"
    }
   }
  },
  {
   "cell_type": "code",
   "execution_count": 3,
   "outputs": [],
   "source": [
    "lnks = get_all_links()"
   ],
   "metadata": {
    "collapsed": false,
    "ExecuteTime": {
     "end_time": "2023-07-28T11:43:09.315286Z",
     "start_time": "2023-07-28T11:42:37.587126Z"
    }
   }
  },
  {
   "cell_type": "code",
   "execution_count": 4,
   "outputs": [
    {
     "name": "stdout",
     "output_type": "stream",
     "text": [
      "p20230728113015_1_l3_p1_f1_s19: 24.03.04 Авиастроение (мест: 20), подано 2790, из них оригиналы 413\n",
      "p20230728113015_1_l3_p1_f1_s20: 24.05.01 Проектирование, производство и эксплуатация ракет и ракетно-космических комплексов (мест: 55), подано 3058, из них оригиналы 622\n",
      "p20230728113015_1_l3_p1_f1_s21: 24.05.02 Проектирование авиационных и ракетных двигателей (мест: 36), подано 2590, из них оригиналы 480\n",
      "p20230728113015_1_l3_p1_f1_s22: 24.05.05 Интегрированные системы летательных аппаратов (мест: 99), подано 2308, из них оригиналы 477\n",
      "p20230728113015_1_l3_p1_f1_s23: 24.05.06 Системы управления летательными аппаратами (мест: 48), подано 2719, из них оригиналы 506\n",
      "p20230728113015_1_l3_p1_f1_s24: 24.05.07 Самолето-вертолетостроение (мест: 31), подано 2403, из них оригиналы 574\n",
      "p20230728113015_1_l1_p1_f1_s1: 01.03.00 Компьютерные науки и прикладная математика (мест: 140), подано 3128, из них оригиналы 368\n",
      "p20230728113015_1_l1_p1_f1_s2: 02.03.02 Фундаментальная информатика и информационные технологии (мест: 70), подано 3237, из них оригиналы 346\n",
      "p20230728113015_1_l1_p1_f1_s3: 05.03.06 Экология и природопользование (мест: 16), подано 101, из них оригиналы 15\n",
      "p20230728113015_1_l1_p1_f1_s4: 09.03.01 Информатика и вычислительная техника (мест: 87), подано 6133, из них оригиналы 555\n",
      "p20230728113015_1_l1_p1_f1_s5: 09.03.02 Информационные системы и технологии (мест: 39), подано 4501, из них оригиналы 397\n",
      "p20230728113015_1_l1_p1_f1_s6: 09.03.03 Прикладная информатика (мест: 30), подано 4534, из них оригиналы 360\n",
      "p20230728113015_1_l1_p1_f1_s7: 09.03.04 Программная инженерия (мест: 16), подано 3965, из них оригиналы 285\n",
      "p20230728113015_1_l1_p1_f1_s8: 10.03.01 Информационная безопасность (мест: 20), подано 4034, из них оригиналы 331\n",
      "p20230728113015_1_l1_p1_f1_s10: 11.03.01 Радиотехника (мест: 30), подано 1914, из них оригиналы 234\n",
      "p20230728113015_1_l1_p1_f1_s11: 11.03.02 Инфокоммуникационные технологии и системы связи (мест: 42), подано 2200, из них оригиналы 209\n",
      "p20230728113015_1_l1_p1_f1_s12: 11.03.03 Конструирование и технология электронных средств (мест: 30), подано 1330, из них оригиналы 145\n",
      "p20230728113015_1_l1_p1_f1_s14: 12.03.04 Биотехнические системы и технологии (мест: 75), подано 2097, из них оригиналы 260\n",
      "p20230728113015_1_l1_p1_f1_s15: 13.03.02 Электроэнергетика и электротехника (мест: 24), подано 1594, из них оригиналы 169\n",
      "p20230728113015_1_l1_p1_f1_s16: 15.03.03 Прикладная механика (мест: 28), подано 1388, из них оригиналы 131\n",
      "p20230728113015_1_l1_p1_f1_s17: 20.03.01 Техносферная безопасность (мест: 21), подано 794, из них оригиналы 88\n",
      "p20230728113015_1_l1_p1_f1_s18: 22.03.00 Новые материалы и цифровые технологии (мест: 28), подано 734, из них оригиналы 117\n",
      "p20230728113015_1_l1_p1_f1_s25: 27.03.03 Системный анализ и управление (мест: 84), подано 1871, из них оригиналы 240\n",
      "p20230728113015_1_l1_p1_f1_s26: 27.03.04 Управление в технических системах (мест: 28), подано 1231, из них оригиналы 157\n",
      "p20230728113015_1_l1_p1_f1_s27: 27.03.05 Инноватика (мест: 45), подано 2216, из них оригиналы 261\n",
      "p20230728113015_1_l1_p1_f1_s29: 38.03.00 Экономика и управление (мест: 35), подано 730, из них оригиналы 68\n",
      "p20230728113015_1_l1_p3_f2_s59: 38.03.01 Экономика (мест: 0), подано 2, из них оригиналы 0\n",
      "p20230728113015_1_l1_p3_f2_s60: 38.03.02 Менеджмент (мест: 0), подано 2, из них оригиналы 0\n",
      "p20230728113015_1_l1_p3_f2_s61: 38.03.03 Управление персоналом (мест: 0), подано 1, из них оригиналы 0\n",
      "p20230728113015_1_l1_p3_f2_s63: 38.03.05 Бизнес-информатика (мест: 0), подано 1, из них оригиналы 0\n",
      "p20230728113015_1_l1_p3_f2_s65: 45.03.02 Лингвистика (мест: 0), подано 1, из них оригиналы 0\n",
      "p20230728113015_1_l1_p3_f1_s2: 02.03.02 Фундаментальная информатика и информационные технологии (мест: 70), подано 1, из них оригиналы 0\n",
      "p20230728113015_1_l1_p3_f1_s4: 09.03.01 Информатика и вычислительная техника (мест: 87), подано 2, из них оригиналы 0\n",
      "p20230728113015_1_l1_p3_f1_s5: 09.03.02 Информационные системы и технологии (мест: 39), подано 2, из них оригиналы 0\n",
      "p20230728113015_1_l1_p3_f1_s6: 09.03.03 Прикладная информатика (мест: 30), подано 1, из них оригиналы 0\n",
      "p20230728113015_1_l1_p3_f1_s7: 09.03.04 Программная инженерия (мест: 16), подано 2, из них оригиналы 0\n",
      "p20230728113015_1_l1_p3_f1_s11: 11.03.02 Инфокоммуникационные технологии и системы связи (мест: 42), подано 1, из них оригиналы 0\n",
      "p20230728113015_1_l1_p3_f1_s14: 12.03.04 Биотехнические системы и технологии (мест: 75), подано 1, из них оригиналы 0\n",
      "p20230728113015_1_l1_p3_f1_s70: 24.03.01 Ракетные комплексы и космонавтика (мест: 0), подано 1, из них оригиналы 1\n",
      "p20230728113015_1_l1_p3_f1_s19: 24.03.04 Авиастроение (мест: 20), подано 7, из них оригиналы 2\n",
      "p20230728113015_1_l1_p3_f1_s35: 24.03.05 Двигатели летательных аппаратов (мест: 0), подано 2, из них оригиналы 2\n",
      "p20230728113015_1_l1_p3_f1_s69: 25.03.01 Техническая эксплуатация летательных аппаратов и двигателей (мест: 0), подано 1, из них оригиналы 0\n",
      "p20230728113015_1_l1_p3_f1_s25: 27.03.03 Системный анализ и управление (мест: 84), подано 6, из них оригиналы 3\n",
      "p20230728113015_1_l1_p3_f1_s26: 27.03.04 Управление в технических системах (мест: 28), подано 1, из них оригиналы 0\n",
      "p20230728113015_1_l1_p3_f1_s59: 38.03.01 Экономика (мест: 0), подано 2, из них оригиналы 0\n",
      "p20230728113015_1_l1_p3_f1_s60: 38.03.02 Менеджмент (мест: 0), подано 1, из них оригиналы 0\n",
      "p20230728113015_1_l1_p3_f1_s61: 38.03.03 Управление персоналом (мест: 0), подано 2, из них оригиналы 0\n",
      "p20230728113015_1_l1_p3_f1_s63: 38.03.05 Бизнес-информатика (мест: 0), подано 3, из них оригиналы 0\n",
      "p20230728113015_1_l1_p3_f1_s65: 45.03.02 Лингвистика (мест: 0), подано 1, из них оригиналы 0\n",
      "p20230728113015_1_l5_p1_f1_s42: 01.04.02 Прикладная математика и информатика (мест: 36), подано 20, из них оригиналы 20\n",
      "p20230728113015_1_l5_p1_f1_s43: 01.04.04 Прикладная математика (мест: 38), подано 20, из них оригиналы 18\n",
      "p20230728113015_1_l5_p1_f1_s44: 02.04.02 Фундаментальная информатика и информационные технологии (мест: 49), подано 13, из них оригиналы 13\n",
      "p20230728113015_1_l5_p1_f1_s45: 09.04.01 Информатика и вычислительная техника (мест: 193), подано 46, из них оригиналы 44\n",
      "p20230728113015_1_l5_p1_f1_s46: 09.04.04 Программная инженерия (мест: 9), подано 3, из них оригиналы 3\n",
      "p20230728113015_1_l5_p1_f1_s47: 11.04.01 Радиотехника (мест: 16), подано 9, из них оригиналы 9\n",
      "p20230728113015_1_l5_p1_f1_s48: 11.04.02 Инфокоммуникационные технологии и системы связи (мест: 16), подано 16, из них оригиналы 13\n",
      "p20230728113015_1_l5_p1_f1_s49: 11.04.03 Конструирование и технология электронных средств\" (мест: ), подано 6, из них оригиналы 5\n",
      "p20230728113015_1_l5_p1_f1_s54: 27.04.02 Управление качеством (мест: 18), подано 2, из них оригиналы 2\n",
      "p20230728113015_1_l5_p1_f1_s55: 27.04.03 Системный анализ и управление (мест: 23), подано 1, из них оригиналы 1\n",
      "p20230728113015_1_l5_p1_f1_s56: 27.04.05 Инноватика (мест: 22), подано 5, из них оригиналы 5\n",
      "p20230728113015_1_l5_p1_f1_s57: 38.04.01 Экономика (мест: 9), подано 2, из них оригиналы 0\n",
      "p20230728113015_1_l5_p1_f1_s58: 38.04.02 Менеджмент (мест: 9), подано 4, из них оригиналы 2\n",
      "p20230728113015_1_l6_p1_f1_s50: 24.04.01 Ракетные комплексы и космонавтика (мест: 64), подано 10, из них оригиналы 7\n",
      "p20230728113015_1_l6_p1_f1_s51: 24.04.03 Баллистика и гидроаэродинамика (мест: 25), подано 11, из них оригиналы 9\n",
      "p20230728113015_1_l6_p1_f1_s52: 24.04.04 Авиастроение (мест: 79), подано 11, из них оригиналы 9\n",
      "p20230728113015_1_l6_p1_f1_s53: 24.04.05 Двигатели летательных аппаратов (мест: 65), подано 6, из них оригиналы 5\n",
      "p20230728113015_1_l2_p1_f1_s9: 10.05.02 Информационная безопасность телекоммуникационных систем (мест: 15), подано 1466, из них оригиналы 142\n",
      "p20230728113015_1_l2_p1_f1_s13: 11.05.01 Радиоэлектронные системы и комплексы (мест: 11), подано 1232, из них оригиналы 214\n",
      "p20230728113015_1_l2_p1_f1_s28: 27.05.01 Специальные организационно-технические системы (мест: 20), подано 663, из них оригиналы 123\n",
      "p20230728113015_1_l2_p3_f1_s21: 24.05.02 Проектирование авиационных и ракетных двигателей (мест: 36), подано 1, из них оригиналы 0\n",
      "p20230728113015_1_l2_p3_f1_s23: 24.05.06 Системы управления летательными аппаратами (мест: 48), подано 1, из них оригиналы 0\n",
      "p20230728113015_5_l1_p1_f1_s4: 09.03.01 Информатика и вычислительная техника (мест: 9), подано 130, из них оригиналы 37\n",
      "p20230728113015_5_l1_p1_f1_s33: 15.03.04 Автоматизация технологических процессов и производств (мест: 6), подано 111, из них оригиналы 38\n",
      "p20230728113015_5_l1_p1_f1_s34: 22.03.01 Материаловедение и технологии материалов (мест: 7), подано 85, из них оригиналы 31\n",
      "p20230728113015_5_l1_p1_f1_s35: 24.03.05 Двигатели летательных аппаратов (мест: 10), подано 119, из них оригиналы 38\n",
      "p20230728113015_5_l1_p3_f1_s4: 09.03.01 Информатика и вычислительная техника (мест: 9), подано 1, из них оригиналы 0\n",
      "p20230728113015_5_l1_p3_f1_s33: 15.03.04 Автоматизация технологических процессов и производств (мест: 6), подано 1, из них оригиналы 0\n",
      "p20230728113015_5_l1_p3_f1_s34: 22.03.01 Материаловедение и технологии материалов (мест: 7), подано 1, из них оригиналы 0\n",
      "p20230728113015_2_l2_p1_f1_s13: 11.05.01 Радиоэлектронные системы и комплексы (мест: 5), подано 36, из них оригиналы 22\n",
      "p20230728113015_2_l2_p1_f1_s30: 24.05.03 Испытание летательных аппаратов (мест: 6), подано 52, из них оригиналы 26\n",
      "p20230728113015_3_l1_p1_f1_s31: 01.03.04 Прикладная математика (мест: 9), подано 46, из них оригиналы 27\n",
      "p20230728113015_3_l1_p1_f1_s4: 09.03.01 Информатика и вычислительная техника (мест: 13), подано 47, из них оригиналы 26\n",
      "p20230728113015_3_l1_p3_f1_s60: 38.03.02 Менеджмент (мест: 0), подано 1, из них оригиналы 1\n",
      "p20230728113015_3_l2_p1_f1_s30: 24.05.03 Испытание летательных аппаратов (мест: 3), подано 46, из них оригиналы 27\n",
      "p20230728113015_4_l1_p1_f1_s4: 09.03.01 Информатика и вычислительная техника (мест: 15), подано 192, из них оригиналы 69\n",
      "p20230728113015_4_l1_p1_f1_s32: 24.03.03 Баллистика и гидроаэродинамика (мест: 12), подано 128, из них оригиналы 53\n",
      "p20230728113015_4_l2_p1_f1_s13: 11.05.01 Радиоэлектронные системы и комплексы (мест: 2), подано 112, из них оригиналы 47\n",
      "p20230728113015_4_l2_p1_f1_s30: 24.05.03 Испытание летательных аппаратов (мест: 2), подано 136, из них оригиналы 64\n",
      "p20230728113015_4_l2_p1_f1_s23: 24.05.06 Системы управления летательными аппаратами (мест: 6), подано 168, из них оригиналы 73\n",
      "p20230728113015_4_l2_p1_f1_s24: 24.05.07 Самолето-вертолетостроение (мест: 1), подано 120, из них оригиналы 53\n",
      "p20230728113015_6_l4_p1_f1_s36: 09.02.01 Компьютерные системы и комплексы (мест: 20), подано 85, из них оригиналы 25\n",
      "p20230728113015_6_l4_p1_f1_s37: 09.02.07 Информационные системы и программирование (мест: 50), подано 105, из них оригиналы 34\n",
      "p20230728113015_6_l4_p1_f1_s38: 15.02.04 Специальные машины и устройства (мест: 25), подано 67, из них оригиналы 30\n",
      "p20230728113015_6_l4_p1_f1_s39: 15.02.16 Технология машиностроения (мест: 25), подано 69, из них оригиналы 24\n",
      "p20230728113015_6_l4_p1_f1_s40: 27.02.04 Автоматические системы управления (мест: 20), подано 75, из них оригиналы 24\n",
      "p20230728113015_6_l4_p1_f1_s41: 27.02.06 Контроль работы измерительных приборов (мест: 25), подано 39, из них оригиналы 15\n"
     ]
    }
   ],
   "source": [
    "target_data = scrape_abitu(lnks)"
   ],
   "metadata": {
    "collapsed": false,
    "ExecuteTime": {
     "end_time": "2023-07-28T11:45:11.712986Z",
     "start_time": "2023-07-28T11:43:09.302341Z"
    }
   }
  },
  {
   "cell_type": "code",
   "execution_count": 5,
   "outputs": [
    {
     "data": {
      "text/plain": "{'link': 'p20230728113015_1_l3_p1_f1_s19',\n 'name': '24.03.04 Авиастроение',\n 'place_url': 'МАИ',\n 'level_select': 'Базовое высшее образование',\n 'pay_select': 'Бюджет',\n 'form_select': 'очная',\n 'places': 20}"
     },
     "execution_count": 5,
     "metadata": {},
     "output_type": "execute_result"
    }
   ],
   "source": [],
   "metadata": {
    "collapsed": false,
    "ExecuteTime": {
     "end_time": "2023-07-28T11:45:11.738303Z",
     "start_time": "2023-07-28T11:45:11.713596Z"
    }
   }
  },
  {
   "cell_type": "code",
   "execution_count": 6,
   "outputs": [],
   "source": [
    "target_data = [x for x in target_data if x['dir']['level_select'] not in ('Среднее профессиональное образование')]\n",
    "target_data[0]['dir']"
   ],
   "metadata": {
    "collapsed": false,
    "ExecuteTime": {
     "end_time": "2023-07-28T11:45:11.750367Z",
     "start_time": "2023-07-28T11:45:11.737817Z"
    }
   }
  },
  {
   "cell_type": "code",
   "execution_count": 7,
   "outputs": [
    {
     "name": "stderr",
     "output_type": "stream",
     "text": [
      "/Users/eugene/PycharmProjects/mai_pk/workflow.py:28: SettingWithCopyWarning: \n",
      "A value is trying to be set on a copy of a slice from a DataFrame.\n",
      "Try using .loc[row_indexer,col_indexer] = value instead\n",
      "\n",
      "See the caveats in the documentation: https://pandas.pydata.org/pandas-docs/stable/user_guide/indexing.html#returning-a-view-versus-a-copy\n",
      "  df['dir'] = data['dir']['link']\n",
      "/Users/eugene/PycharmProjects/mai_pk/workflow.py:28: SettingWithCopyWarning: \n",
      "A value is trying to be set on a copy of a slice from a DataFrame.\n",
      "Try using .loc[row_indexer,col_indexer] = value instead\n",
      "\n",
      "See the caveats in the documentation: https://pandas.pydata.org/pandas-docs/stable/user_guide/indexing.html#returning-a-view-versus-a-copy\n",
      "  df['dir'] = data['dir']['link']\n",
      "/Users/eugene/PycharmProjects/mai_pk/workflow.py:28: SettingWithCopyWarning: \n",
      "A value is trying to be set on a copy of a slice from a DataFrame.\n",
      "Try using .loc[row_indexer,col_indexer] = value instead\n",
      "\n",
      "See the caveats in the documentation: https://pandas.pydata.org/pandas-docs/stable/user_guide/indexing.html#returning-a-view-versus-a-copy\n",
      "  df['dir'] = data['dir']['link']\n",
      "/Users/eugene/PycharmProjects/mai_pk/workflow.py:28: SettingWithCopyWarning: \n",
      "A value is trying to be set on a copy of a slice from a DataFrame.\n",
      "Try using .loc[row_indexer,col_indexer] = value instead\n",
      "\n",
      "See the caveats in the documentation: https://pandas.pydata.org/pandas-docs/stable/user_guide/indexing.html#returning-a-view-versus-a-copy\n",
      "  df['dir'] = data['dir']['link']\n",
      "/Users/eugene/PycharmProjects/mai_pk/workflow.py:28: SettingWithCopyWarning: \n",
      "A value is trying to be set on a copy of a slice from a DataFrame.\n",
      "Try using .loc[row_indexer,col_indexer] = value instead\n",
      "\n",
      "See the caveats in the documentation: https://pandas.pydata.org/pandas-docs/stable/user_guide/indexing.html#returning-a-view-versus-a-copy\n",
      "  df['dir'] = data['dir']['link']\n",
      "/Users/eugene/PycharmProjects/mai_pk/workflow.py:28: SettingWithCopyWarning: \n",
      "A value is trying to be set on a copy of a slice from a DataFrame.\n",
      "Try using .loc[row_indexer,col_indexer] = value instead\n",
      "\n",
      "See the caveats in the documentation: https://pandas.pydata.org/pandas-docs/stable/user_guide/indexing.html#returning-a-view-versus-a-copy\n",
      "  df['dir'] = data['dir']['link']\n",
      "/Users/eugene/PycharmProjects/mai_pk/workflow.py:28: SettingWithCopyWarning: \n",
      "A value is trying to be set on a copy of a slice from a DataFrame.\n",
      "Try using .loc[row_indexer,col_indexer] = value instead\n",
      "\n",
      "See the caveats in the documentation: https://pandas.pydata.org/pandas-docs/stable/user_guide/indexing.html#returning-a-view-versus-a-copy\n",
      "  df['dir'] = data['dir']['link']\n",
      "/Users/eugene/PycharmProjects/mai_pk/workflow.py:28: SettingWithCopyWarning: \n",
      "A value is trying to be set on a copy of a slice from a DataFrame.\n",
      "Try using .loc[row_indexer,col_indexer] = value instead\n",
      "\n",
      "See the caveats in the documentation: https://pandas.pydata.org/pandas-docs/stable/user_guide/indexing.html#returning-a-view-versus-a-copy\n",
      "  df['dir'] = data['dir']['link']\n",
      "/Users/eugene/PycharmProjects/mai_pk/workflow.py:28: SettingWithCopyWarning: \n",
      "A value is trying to be set on a copy of a slice from a DataFrame.\n",
      "Try using .loc[row_indexer,col_indexer] = value instead\n",
      "\n",
      "See the caveats in the documentation: https://pandas.pydata.org/pandas-docs/stable/user_guide/indexing.html#returning-a-view-versus-a-copy\n",
      "  df['dir'] = data['dir']['link']\n",
      "/Users/eugene/PycharmProjects/mai_pk/workflow.py:28: SettingWithCopyWarning: \n",
      "A value is trying to be set on a copy of a slice from a DataFrame.\n",
      "Try using .loc[row_indexer,col_indexer] = value instead\n",
      "\n",
      "See the caveats in the documentation: https://pandas.pydata.org/pandas-docs/stable/user_guide/indexing.html#returning-a-view-versus-a-copy\n",
      "  df['dir'] = data['dir']['link']\n",
      "/Users/eugene/PycharmProjects/mai_pk/workflow.py:28: SettingWithCopyWarning: \n",
      "A value is trying to be set on a copy of a slice from a DataFrame.\n",
      "Try using .loc[row_indexer,col_indexer] = value instead\n",
      "\n",
      "See the caveats in the documentation: https://pandas.pydata.org/pandas-docs/stable/user_guide/indexing.html#returning-a-view-versus-a-copy\n",
      "  df['dir'] = data['dir']['link']\n",
      "/Users/eugene/PycharmProjects/mai_pk/workflow.py:28: SettingWithCopyWarning: \n",
      "A value is trying to be set on a copy of a slice from a DataFrame.\n",
      "Try using .loc[row_indexer,col_indexer] = value instead\n",
      "\n",
      "See the caveats in the documentation: https://pandas.pydata.org/pandas-docs/stable/user_guide/indexing.html#returning-a-view-versus-a-copy\n",
      "  df['dir'] = data['dir']['link']\n",
      "/Users/eugene/PycharmProjects/mai_pk/workflow.py:28: SettingWithCopyWarning: \n",
      "A value is trying to be set on a copy of a slice from a DataFrame.\n",
      "Try using .loc[row_indexer,col_indexer] = value instead\n",
      "\n",
      "See the caveats in the documentation: https://pandas.pydata.org/pandas-docs/stable/user_guide/indexing.html#returning-a-view-versus-a-copy\n",
      "  df['dir'] = data['dir']['link']\n",
      "/Users/eugene/PycharmProjects/mai_pk/workflow.py:28: SettingWithCopyWarning: \n",
      "A value is trying to be set on a copy of a slice from a DataFrame.\n",
      "Try using .loc[row_indexer,col_indexer] = value instead\n",
      "\n",
      "See the caveats in the documentation: https://pandas.pydata.org/pandas-docs/stable/user_guide/indexing.html#returning-a-view-versus-a-copy\n",
      "  df['dir'] = data['dir']['link']\n",
      "/Users/eugene/PycharmProjects/mai_pk/workflow.py:28: SettingWithCopyWarning: \n",
      "A value is trying to be set on a copy of a slice from a DataFrame.\n",
      "Try using .loc[row_indexer,col_indexer] = value instead\n",
      "\n",
      "See the caveats in the documentation: https://pandas.pydata.org/pandas-docs/stable/user_guide/indexing.html#returning-a-view-versus-a-copy\n",
      "  df['dir'] = data['dir']['link']\n",
      "/Users/eugene/PycharmProjects/mai_pk/workflow.py:28: SettingWithCopyWarning: \n",
      "A value is trying to be set on a copy of a slice from a DataFrame.\n",
      "Try using .loc[row_indexer,col_indexer] = value instead\n",
      "\n",
      "See the caveats in the documentation: https://pandas.pydata.org/pandas-docs/stable/user_guide/indexing.html#returning-a-view-versus-a-copy\n",
      "  df['dir'] = data['dir']['link']\n",
      "/Users/eugene/PycharmProjects/mai_pk/workflow.py:28: SettingWithCopyWarning: \n",
      "A value is trying to be set on a copy of a slice from a DataFrame.\n",
      "Try using .loc[row_indexer,col_indexer] = value instead\n",
      "\n",
      "See the caveats in the documentation: https://pandas.pydata.org/pandas-docs/stable/user_guide/indexing.html#returning-a-view-versus-a-copy\n",
      "  df['dir'] = data['dir']['link']\n",
      "/Users/eugene/PycharmProjects/mai_pk/workflow.py:28: SettingWithCopyWarning: \n",
      "A value is trying to be set on a copy of a slice from a DataFrame.\n",
      "Try using .loc[row_indexer,col_indexer] = value instead\n",
      "\n",
      "See the caveats in the documentation: https://pandas.pydata.org/pandas-docs/stable/user_guide/indexing.html#returning-a-view-versus-a-copy\n",
      "  df['dir'] = data['dir']['link']\n",
      "/Users/eugene/PycharmProjects/mai_pk/workflow.py:28: SettingWithCopyWarning: \n",
      "A value is trying to be set on a copy of a slice from a DataFrame.\n",
      "Try using .loc[row_indexer,col_indexer] = value instead\n",
      "\n",
      "See the caveats in the documentation: https://pandas.pydata.org/pandas-docs/stable/user_guide/indexing.html#returning-a-view-versus-a-copy\n",
      "  df['dir'] = data['dir']['link']\n",
      "/Users/eugene/PycharmProjects/mai_pk/workflow.py:28: SettingWithCopyWarning: \n",
      "A value is trying to be set on a copy of a slice from a DataFrame.\n",
      "Try using .loc[row_indexer,col_indexer] = value instead\n",
      "\n",
      "See the caveats in the documentation: https://pandas.pydata.org/pandas-docs/stable/user_guide/indexing.html#returning-a-view-versus-a-copy\n",
      "  df['dir'] = data['dir']['link']\n",
      "/Users/eugene/PycharmProjects/mai_pk/workflow.py:28: SettingWithCopyWarning: \n",
      "A value is trying to be set on a copy of a slice from a DataFrame.\n",
      "Try using .loc[row_indexer,col_indexer] = value instead\n",
      "\n",
      "See the caveats in the documentation: https://pandas.pydata.org/pandas-docs/stable/user_guide/indexing.html#returning-a-view-versus-a-copy\n",
      "  df['dir'] = data['dir']['link']\n",
      "/Users/eugene/PycharmProjects/mai_pk/workflow.py:28: SettingWithCopyWarning: \n",
      "A value is trying to be set on a copy of a slice from a DataFrame.\n",
      "Try using .loc[row_indexer,col_indexer] = value instead\n",
      "\n",
      "See the caveats in the documentation: https://pandas.pydata.org/pandas-docs/stable/user_guide/indexing.html#returning-a-view-versus-a-copy\n",
      "  df['dir'] = data['dir']['link']\n",
      "/Users/eugene/PycharmProjects/mai_pk/workflow.py:28: SettingWithCopyWarning: \n",
      "A value is trying to be set on a copy of a slice from a DataFrame.\n",
      "Try using .loc[row_indexer,col_indexer] = value instead\n",
      "\n",
      "See the caveats in the documentation: https://pandas.pydata.org/pandas-docs/stable/user_guide/indexing.html#returning-a-view-versus-a-copy\n",
      "  df['dir'] = data['dir']['link']\n",
      "/Users/eugene/PycharmProjects/mai_pk/workflow.py:28: SettingWithCopyWarning: \n",
      "A value is trying to be set on a copy of a slice from a DataFrame.\n",
      "Try using .loc[row_indexer,col_indexer] = value instead\n",
      "\n",
      "See the caveats in the documentation: https://pandas.pydata.org/pandas-docs/stable/user_guide/indexing.html#returning-a-view-versus-a-copy\n",
      "  df['dir'] = data['dir']['link']\n",
      "/Users/eugene/PycharmProjects/mai_pk/workflow.py:28: SettingWithCopyWarning: \n",
      "A value is trying to be set on a copy of a slice from a DataFrame.\n",
      "Try using .loc[row_indexer,col_indexer] = value instead\n",
      "\n",
      "See the caveats in the documentation: https://pandas.pydata.org/pandas-docs/stable/user_guide/indexing.html#returning-a-view-versus-a-copy\n",
      "  df['dir'] = data['dir']['link']\n",
      "/Users/eugene/PycharmProjects/mai_pk/workflow.py:28: SettingWithCopyWarning: \n",
      "A value is trying to be set on a copy of a slice from a DataFrame.\n",
      "Try using .loc[row_indexer,col_indexer] = value instead\n",
      "\n",
      "See the caveats in the documentation: https://pandas.pydata.org/pandas-docs/stable/user_guide/indexing.html#returning-a-view-versus-a-copy\n",
      "  df['dir'] = data['dir']['link']\n",
      "/Users/eugene/PycharmProjects/mai_pk/workflow.py:28: SettingWithCopyWarning: \n",
      "A value is trying to be set on a copy of a slice from a DataFrame.\n",
      "Try using .loc[row_indexer,col_indexer] = value instead\n",
      "\n",
      "See the caveats in the documentation: https://pandas.pydata.org/pandas-docs/stable/user_guide/indexing.html#returning-a-view-versus-a-copy\n",
      "  df['dir'] = data['dir']['link']\n",
      "/Users/eugene/PycharmProjects/mai_pk/workflow.py:28: SettingWithCopyWarning: \n",
      "A value is trying to be set on a copy of a slice from a DataFrame.\n",
      "Try using .loc[row_indexer,col_indexer] = value instead\n",
      "\n",
      "See the caveats in the documentation: https://pandas.pydata.org/pandas-docs/stable/user_guide/indexing.html#returning-a-view-versus-a-copy\n",
      "  df['dir'] = data['dir']['link']\n",
      "/Users/eugene/PycharmProjects/mai_pk/workflow.py:28: SettingWithCopyWarning: \n",
      "A value is trying to be set on a copy of a slice from a DataFrame.\n",
      "Try using .loc[row_indexer,col_indexer] = value instead\n",
      "\n",
      "See the caveats in the documentation: https://pandas.pydata.org/pandas-docs/stable/user_guide/indexing.html#returning-a-view-versus-a-copy\n",
      "  df['dir'] = data['dir']['link']\n",
      "/Users/eugene/PycharmProjects/mai_pk/workflow.py:28: SettingWithCopyWarning: \n",
      "A value is trying to be set on a copy of a slice from a DataFrame.\n",
      "Try using .loc[row_indexer,col_indexer] = value instead\n",
      "\n",
      "See the caveats in the documentation: https://pandas.pydata.org/pandas-docs/stable/user_guide/indexing.html#returning-a-view-versus-a-copy\n",
      "  df['dir'] = data['dir']['link']\n",
      "/Users/eugene/PycharmProjects/mai_pk/workflow.py:28: SettingWithCopyWarning: \n",
      "A value is trying to be set on a copy of a slice from a DataFrame.\n",
      "Try using .loc[row_indexer,col_indexer] = value instead\n",
      "\n",
      "See the caveats in the documentation: https://pandas.pydata.org/pandas-docs/stable/user_guide/indexing.html#returning-a-view-versus-a-copy\n",
      "  df['dir'] = data['dir']['link']\n",
      "/Users/eugene/PycharmProjects/mai_pk/workflow.py:28: SettingWithCopyWarning: \n",
      "A value is trying to be set on a copy of a slice from a DataFrame.\n",
      "Try using .loc[row_indexer,col_indexer] = value instead\n",
      "\n",
      "See the caveats in the documentation: https://pandas.pydata.org/pandas-docs/stable/user_guide/indexing.html#returning-a-view-versus-a-copy\n",
      "  df['dir'] = data['dir']['link']\n",
      "/Users/eugene/PycharmProjects/mai_pk/workflow.py:28: SettingWithCopyWarning: \n",
      "A value is trying to be set on a copy of a slice from a DataFrame.\n",
      "Try using .loc[row_indexer,col_indexer] = value instead\n",
      "\n",
      "See the caveats in the documentation: https://pandas.pydata.org/pandas-docs/stable/user_guide/indexing.html#returning-a-view-versus-a-copy\n",
      "  df['dir'] = data['dir']['link']\n",
      "/Users/eugene/PycharmProjects/mai_pk/workflow.py:28: SettingWithCopyWarning: \n",
      "A value is trying to be set on a copy of a slice from a DataFrame.\n",
      "Try using .loc[row_indexer,col_indexer] = value instead\n",
      "\n",
      "See the caveats in the documentation: https://pandas.pydata.org/pandas-docs/stable/user_guide/indexing.html#returning-a-view-versus-a-copy\n",
      "  df['dir'] = data['dir']['link']\n",
      "/Users/eugene/PycharmProjects/mai_pk/workflow.py:28: SettingWithCopyWarning: \n",
      "A value is trying to be set on a copy of a slice from a DataFrame.\n",
      "Try using .loc[row_indexer,col_indexer] = value instead\n",
      "\n",
      "See the caveats in the documentation: https://pandas.pydata.org/pandas-docs/stable/user_guide/indexing.html#returning-a-view-versus-a-copy\n",
      "  df['dir'] = data['dir']['link']\n",
      "/Users/eugene/PycharmProjects/mai_pk/workflow.py:28: SettingWithCopyWarning: \n",
      "A value is trying to be set on a copy of a slice from a DataFrame.\n",
      "Try using .loc[row_indexer,col_indexer] = value instead\n",
      "\n",
      "See the caveats in the documentation: https://pandas.pydata.org/pandas-docs/stable/user_guide/indexing.html#returning-a-view-versus-a-copy\n",
      "  df['dir'] = data['dir']['link']\n",
      "/Users/eugene/PycharmProjects/mai_pk/workflow.py:28: SettingWithCopyWarning: \n",
      "A value is trying to be set on a copy of a slice from a DataFrame.\n",
      "Try using .loc[row_indexer,col_indexer] = value instead\n",
      "\n",
      "See the caveats in the documentation: https://pandas.pydata.org/pandas-docs/stable/user_guide/indexing.html#returning-a-view-versus-a-copy\n",
      "  df['dir'] = data['dir']['link']\n",
      "/Users/eugene/PycharmProjects/mai_pk/workflow.py:28: SettingWithCopyWarning: \n",
      "A value is trying to be set on a copy of a slice from a DataFrame.\n",
      "Try using .loc[row_indexer,col_indexer] = value instead\n",
      "\n",
      "See the caveats in the documentation: https://pandas.pydata.org/pandas-docs/stable/user_guide/indexing.html#returning-a-view-versus-a-copy\n",
      "  df['dir'] = data['dir']['link']\n",
      "/Users/eugene/PycharmProjects/mai_pk/workflow.py:28: SettingWithCopyWarning: \n",
      "A value is trying to be set on a copy of a slice from a DataFrame.\n",
      "Try using .loc[row_indexer,col_indexer] = value instead\n",
      "\n",
      "See the caveats in the documentation: https://pandas.pydata.org/pandas-docs/stable/user_guide/indexing.html#returning-a-view-versus-a-copy\n",
      "  df['dir'] = data['dir']['link']\n",
      "/Users/eugene/PycharmProjects/mai_pk/workflow.py:28: SettingWithCopyWarning: \n",
      "A value is trying to be set on a copy of a slice from a DataFrame.\n",
      "Try using .loc[row_indexer,col_indexer] = value instead\n",
      "\n",
      "See the caveats in the documentation: https://pandas.pydata.org/pandas-docs/stable/user_guide/indexing.html#returning-a-view-versus-a-copy\n",
      "  df['dir'] = data['dir']['link']\n",
      "/Users/eugene/PycharmProjects/mai_pk/workflow.py:28: SettingWithCopyWarning: \n",
      "A value is trying to be set on a copy of a slice from a DataFrame.\n",
      "Try using .loc[row_indexer,col_indexer] = value instead\n",
      "\n",
      "See the caveats in the documentation: https://pandas.pydata.org/pandas-docs/stable/user_guide/indexing.html#returning-a-view-versus-a-copy\n",
      "  df['dir'] = data['dir']['link']\n",
      "/Users/eugene/PycharmProjects/mai_pk/workflow.py:28: SettingWithCopyWarning: \n",
      "A value is trying to be set on a copy of a slice from a DataFrame.\n",
      "Try using .loc[row_indexer,col_indexer] = value instead\n",
      "\n",
      "See the caveats in the documentation: https://pandas.pydata.org/pandas-docs/stable/user_guide/indexing.html#returning-a-view-versus-a-copy\n",
      "  df['dir'] = data['dir']['link']\n",
      "/Users/eugene/PycharmProjects/mai_pk/workflow.py:28: SettingWithCopyWarning: \n",
      "A value is trying to be set on a copy of a slice from a DataFrame.\n",
      "Try using .loc[row_indexer,col_indexer] = value instead\n",
      "\n",
      "See the caveats in the documentation: https://pandas.pydata.org/pandas-docs/stable/user_guide/indexing.html#returning-a-view-versus-a-copy\n",
      "  df['dir'] = data['dir']['link']\n",
      "/Users/eugene/PycharmProjects/mai_pk/workflow.py:28: SettingWithCopyWarning: \n",
      "A value is trying to be set on a copy of a slice from a DataFrame.\n",
      "Try using .loc[row_indexer,col_indexer] = value instead\n",
      "\n",
      "See the caveats in the documentation: https://pandas.pydata.org/pandas-docs/stable/user_guide/indexing.html#returning-a-view-versus-a-copy\n",
      "  df['dir'] = data['dir']['link']\n",
      "/Users/eugene/PycharmProjects/mai_pk/workflow.py:28: SettingWithCopyWarning: \n",
      "A value is trying to be set on a copy of a slice from a DataFrame.\n",
      "Try using .loc[row_indexer,col_indexer] = value instead\n",
      "\n",
      "See the caveats in the documentation: https://pandas.pydata.org/pandas-docs/stable/user_guide/indexing.html#returning-a-view-versus-a-copy\n",
      "  df['dir'] = data['dir']['link']\n",
      "/Users/eugene/PycharmProjects/mai_pk/workflow.py:28: SettingWithCopyWarning: \n",
      "A value is trying to be set on a copy of a slice from a DataFrame.\n",
      "Try using .loc[row_indexer,col_indexer] = value instead\n",
      "\n",
      "See the caveats in the documentation: https://pandas.pydata.org/pandas-docs/stable/user_guide/indexing.html#returning-a-view-versus-a-copy\n",
      "  df['dir'] = data['dir']['link']\n",
      "/Users/eugene/PycharmProjects/mai_pk/workflow.py:28: SettingWithCopyWarning: \n",
      "A value is trying to be set on a copy of a slice from a DataFrame.\n",
      "Try using .loc[row_indexer,col_indexer] = value instead\n",
      "\n",
      "See the caveats in the documentation: https://pandas.pydata.org/pandas-docs/stable/user_guide/indexing.html#returning-a-view-versus-a-copy\n",
      "  df['dir'] = data['dir']['link']\n",
      "/Users/eugene/PycharmProjects/mai_pk/workflow.py:28: SettingWithCopyWarning: \n",
      "A value is trying to be set on a copy of a slice from a DataFrame.\n",
      "Try using .loc[row_indexer,col_indexer] = value instead\n",
      "\n",
      "See the caveats in the documentation: https://pandas.pydata.org/pandas-docs/stable/user_guide/indexing.html#returning-a-view-versus-a-copy\n",
      "  df['dir'] = data['dir']['link']\n",
      "/Users/eugene/PycharmProjects/mai_pk/workflow.py:28: SettingWithCopyWarning: \n",
      "A value is trying to be set on a copy of a slice from a DataFrame.\n",
      "Try using .loc[row_indexer,col_indexer] = value instead\n",
      "\n",
      "See the caveats in the documentation: https://pandas.pydata.org/pandas-docs/stable/user_guide/indexing.html#returning-a-view-versus-a-copy\n",
      "  df['dir'] = data['dir']['link']\n",
      "/Users/eugene/PycharmProjects/mai_pk/workflow.py:28: SettingWithCopyWarning: \n",
      "A value is trying to be set on a copy of a slice from a DataFrame.\n",
      "Try using .loc[row_indexer,col_indexer] = value instead\n",
      "\n",
      "See the caveats in the documentation: https://pandas.pydata.org/pandas-docs/stable/user_guide/indexing.html#returning-a-view-versus-a-copy\n",
      "  df['dir'] = data['dir']['link']\n",
      "/Users/eugene/PycharmProjects/mai_pk/workflow.py:28: SettingWithCopyWarning: \n",
      "A value is trying to be set on a copy of a slice from a DataFrame.\n",
      "Try using .loc[row_indexer,col_indexer] = value instead\n",
      "\n",
      "See the caveats in the documentation: https://pandas.pydata.org/pandas-docs/stable/user_guide/indexing.html#returning-a-view-versus-a-copy\n",
      "  df['dir'] = data['dir']['link']\n",
      "/Users/eugene/PycharmProjects/mai_pk/workflow.py:28: SettingWithCopyWarning: \n",
      "A value is trying to be set on a copy of a slice from a DataFrame.\n",
      "Try using .loc[row_indexer,col_indexer] = value instead\n",
      "\n",
      "See the caveats in the documentation: https://pandas.pydata.org/pandas-docs/stable/user_guide/indexing.html#returning-a-view-versus-a-copy\n",
      "  df['dir'] = data['dir']['link']\n",
      "/Users/eugene/PycharmProjects/mai_pk/workflow.py:28: SettingWithCopyWarning: \n",
      "A value is trying to be set on a copy of a slice from a DataFrame.\n",
      "Try using .loc[row_indexer,col_indexer] = value instead\n",
      "\n",
      "See the caveats in the documentation: https://pandas.pydata.org/pandas-docs/stable/user_guide/indexing.html#returning-a-view-versus-a-copy\n",
      "  df['dir'] = data['dir']['link']\n",
      "/Users/eugene/PycharmProjects/mai_pk/workflow.py:28: SettingWithCopyWarning: \n",
      "A value is trying to be set on a copy of a slice from a DataFrame.\n",
      "Try using .loc[row_indexer,col_indexer] = value instead\n",
      "\n",
      "See the caveats in the documentation: https://pandas.pydata.org/pandas-docs/stable/user_guide/indexing.html#returning-a-view-versus-a-copy\n",
      "  df['dir'] = data['dir']['link']\n",
      "/Users/eugene/PycharmProjects/mai_pk/workflow.py:28: SettingWithCopyWarning: \n",
      "A value is trying to be set on a copy of a slice from a DataFrame.\n",
      "Try using .loc[row_indexer,col_indexer] = value instead\n",
      "\n",
      "See the caveats in the documentation: https://pandas.pydata.org/pandas-docs/stable/user_guide/indexing.html#returning-a-view-versus-a-copy\n",
      "  df['dir'] = data['dir']['link']\n",
      "/Users/eugene/PycharmProjects/mai_pk/workflow.py:28: SettingWithCopyWarning: \n",
      "A value is trying to be set on a copy of a slice from a DataFrame.\n",
      "Try using .loc[row_indexer,col_indexer] = value instead\n",
      "\n",
      "See the caveats in the documentation: https://pandas.pydata.org/pandas-docs/stable/user_guide/indexing.html#returning-a-view-versus-a-copy\n",
      "  df['dir'] = data['dir']['link']\n",
      "/Users/eugene/PycharmProjects/mai_pk/workflow.py:28: SettingWithCopyWarning: \n",
      "A value is trying to be set on a copy of a slice from a DataFrame.\n",
      "Try using .loc[row_indexer,col_indexer] = value instead\n",
      "\n",
      "See the caveats in the documentation: https://pandas.pydata.org/pandas-docs/stable/user_guide/indexing.html#returning-a-view-versus-a-copy\n",
      "  df['dir'] = data['dir']['link']\n",
      "/Users/eugene/PycharmProjects/mai_pk/workflow.py:28: SettingWithCopyWarning: \n",
      "A value is trying to be set on a copy of a slice from a DataFrame.\n",
      "Try using .loc[row_indexer,col_indexer] = value instead\n",
      "\n",
      "See the caveats in the documentation: https://pandas.pydata.org/pandas-docs/stable/user_guide/indexing.html#returning-a-view-versus-a-copy\n",
      "  df['dir'] = data['dir']['link']\n",
      "/Users/eugene/PycharmProjects/mai_pk/workflow.py:28: SettingWithCopyWarning: \n",
      "A value is trying to be set on a copy of a slice from a DataFrame.\n",
      "Try using .loc[row_indexer,col_indexer] = value instead\n",
      "\n",
      "See the caveats in the documentation: https://pandas.pydata.org/pandas-docs/stable/user_guide/indexing.html#returning-a-view-versus-a-copy\n",
      "  df['dir'] = data['dir']['link']\n",
      "/Users/eugene/PycharmProjects/mai_pk/workflow.py:28: SettingWithCopyWarning: \n",
      "A value is trying to be set on a copy of a slice from a DataFrame.\n",
      "Try using .loc[row_indexer,col_indexer] = value instead\n",
      "\n",
      "See the caveats in the documentation: https://pandas.pydata.org/pandas-docs/stable/user_guide/indexing.html#returning-a-view-versus-a-copy\n",
      "  df['dir'] = data['dir']['link']\n",
      "/Users/eugene/PycharmProjects/mai_pk/workflow.py:28: SettingWithCopyWarning: \n",
      "A value is trying to be set on a copy of a slice from a DataFrame.\n",
      "Try using .loc[row_indexer,col_indexer] = value instead\n",
      "\n",
      "See the caveats in the documentation: https://pandas.pydata.org/pandas-docs/stable/user_guide/indexing.html#returning-a-view-versus-a-copy\n",
      "  df['dir'] = data['dir']['link']\n",
      "/Users/eugene/PycharmProjects/mai_pk/workflow.py:28: SettingWithCopyWarning: \n",
      "A value is trying to be set on a copy of a slice from a DataFrame.\n",
      "Try using .loc[row_indexer,col_indexer] = value instead\n",
      "\n",
      "See the caveats in the documentation: https://pandas.pydata.org/pandas-docs/stable/user_guide/indexing.html#returning-a-view-versus-a-copy\n",
      "  df['dir'] = data['dir']['link']\n",
      "/Users/eugene/PycharmProjects/mai_pk/workflow.py:28: SettingWithCopyWarning: \n",
      "A value is trying to be set on a copy of a slice from a DataFrame.\n",
      "Try using .loc[row_indexer,col_indexer] = value instead\n",
      "\n",
      "See the caveats in the documentation: https://pandas.pydata.org/pandas-docs/stable/user_guide/indexing.html#returning-a-view-versus-a-copy\n",
      "  df['dir'] = data['dir']['link']\n",
      "/Users/eugene/PycharmProjects/mai_pk/workflow.py:28: SettingWithCopyWarning: \n",
      "A value is trying to be set on a copy of a slice from a DataFrame.\n",
      "Try using .loc[row_indexer,col_indexer] = value instead\n",
      "\n",
      "See the caveats in the documentation: https://pandas.pydata.org/pandas-docs/stable/user_guide/indexing.html#returning-a-view-versus-a-copy\n",
      "  df['dir'] = data['dir']['link']\n",
      "/Users/eugene/PycharmProjects/mai_pk/workflow.py:28: SettingWithCopyWarning: \n",
      "A value is trying to be set on a copy of a slice from a DataFrame.\n",
      "Try using .loc[row_indexer,col_indexer] = value instead\n",
      "\n",
      "See the caveats in the documentation: https://pandas.pydata.org/pandas-docs/stable/user_guide/indexing.html#returning-a-view-versus-a-copy\n",
      "  df['dir'] = data['dir']['link']\n",
      "/Users/eugene/PycharmProjects/mai_pk/workflow.py:28: SettingWithCopyWarning: \n",
      "A value is trying to be set on a copy of a slice from a DataFrame.\n",
      "Try using .loc[row_indexer,col_indexer] = value instead\n",
      "\n",
      "See the caveats in the documentation: https://pandas.pydata.org/pandas-docs/stable/user_guide/indexing.html#returning-a-view-versus-a-copy\n",
      "  df['dir'] = data['dir']['link']\n",
      "/Users/eugene/PycharmProjects/mai_pk/workflow.py:28: SettingWithCopyWarning: \n",
      "A value is trying to be set on a copy of a slice from a DataFrame.\n",
      "Try using .loc[row_indexer,col_indexer] = value instead\n",
      "\n",
      "See the caveats in the documentation: https://pandas.pydata.org/pandas-docs/stable/user_guide/indexing.html#returning-a-view-versus-a-copy\n",
      "  df['dir'] = data['dir']['link']\n",
      "/Users/eugene/PycharmProjects/mai_pk/workflow.py:28: SettingWithCopyWarning: \n",
      "A value is trying to be set on a copy of a slice from a DataFrame.\n",
      "Try using .loc[row_indexer,col_indexer] = value instead\n",
      "\n",
      "See the caveats in the documentation: https://pandas.pydata.org/pandas-docs/stable/user_guide/indexing.html#returning-a-view-versus-a-copy\n",
      "  df['dir'] = data['dir']['link']\n",
      "/Users/eugene/PycharmProjects/mai_pk/workflow.py:28: SettingWithCopyWarning: \n",
      "A value is trying to be set on a copy of a slice from a DataFrame.\n",
      "Try using .loc[row_indexer,col_indexer] = value instead\n",
      "\n",
      "See the caveats in the documentation: https://pandas.pydata.org/pandas-docs/stable/user_guide/indexing.html#returning-a-view-versus-a-copy\n",
      "  df['dir'] = data['dir']['link']\n",
      "/Users/eugene/PycharmProjects/mai_pk/workflow.py:28: SettingWithCopyWarning: \n",
      "A value is trying to be set on a copy of a slice from a DataFrame.\n",
      "Try using .loc[row_indexer,col_indexer] = value instead\n",
      "\n",
      "See the caveats in the documentation: https://pandas.pydata.org/pandas-docs/stable/user_guide/indexing.html#returning-a-view-versus-a-copy\n",
      "  df['dir'] = data['dir']['link']\n",
      "/Users/eugene/PycharmProjects/mai_pk/workflow.py:28: SettingWithCopyWarning: \n",
      "A value is trying to be set on a copy of a slice from a DataFrame.\n",
      "Try using .loc[row_indexer,col_indexer] = value instead\n",
      "\n",
      "See the caveats in the documentation: https://pandas.pydata.org/pandas-docs/stable/user_guide/indexing.html#returning-a-view-versus-a-copy\n",
      "  df['dir'] = data['dir']['link']\n",
      "/Users/eugene/PycharmProjects/mai_pk/workflow.py:28: SettingWithCopyWarning: \n",
      "A value is trying to be set on a copy of a slice from a DataFrame.\n",
      "Try using .loc[row_indexer,col_indexer] = value instead\n",
      "\n",
      "See the caveats in the documentation: https://pandas.pydata.org/pandas-docs/stable/user_guide/indexing.html#returning-a-view-versus-a-copy\n",
      "  df['dir'] = data['dir']['link']\n",
      "/Users/eugene/PycharmProjects/mai_pk/workflow.py:28: SettingWithCopyWarning: \n",
      "A value is trying to be set on a copy of a slice from a DataFrame.\n",
      "Try using .loc[row_indexer,col_indexer] = value instead\n",
      "\n",
      "See the caveats in the documentation: https://pandas.pydata.org/pandas-docs/stable/user_guide/indexing.html#returning-a-view-versus-a-copy\n",
      "  df['dir'] = data['dir']['link']\n",
      "/Users/eugene/PycharmProjects/mai_pk/workflow.py:28: SettingWithCopyWarning: \n",
      "A value is trying to be set on a copy of a slice from a DataFrame.\n",
      "Try using .loc[row_indexer,col_indexer] = value instead\n",
      "\n",
      "See the caveats in the documentation: https://pandas.pydata.org/pandas-docs/stable/user_guide/indexing.html#returning-a-view-versus-a-copy\n",
      "  df['dir'] = data['dir']['link']\n",
      "/Users/eugene/PycharmProjects/mai_pk/workflow.py:28: SettingWithCopyWarning: \n",
      "A value is trying to be set on a copy of a slice from a DataFrame.\n",
      "Try using .loc[row_indexer,col_indexer] = value instead\n",
      "\n",
      "See the caveats in the documentation: https://pandas.pydata.org/pandas-docs/stable/user_guide/indexing.html#returning-a-view-versus-a-copy\n",
      "  df['dir'] = data['dir']['link']\n",
      "/Users/eugene/PycharmProjects/mai_pk/workflow.py:28: SettingWithCopyWarning: \n",
      "A value is trying to be set on a copy of a slice from a DataFrame.\n",
      "Try using .loc[row_indexer,col_indexer] = value instead\n",
      "\n",
      "See the caveats in the documentation: https://pandas.pydata.org/pandas-docs/stable/user_guide/indexing.html#returning-a-view-versus-a-copy\n",
      "  df['dir'] = data['dir']['link']\n",
      "/Users/eugene/PycharmProjects/mai_pk/workflow.py:28: SettingWithCopyWarning: \n",
      "A value is trying to be set on a copy of a slice from a DataFrame.\n",
      "Try using .loc[row_indexer,col_indexer] = value instead\n",
      "\n",
      "See the caveats in the documentation: https://pandas.pydata.org/pandas-docs/stable/user_guide/indexing.html#returning-a-view-versus-a-copy\n",
      "  df['dir'] = data['dir']['link']\n",
      "/Users/eugene/PycharmProjects/mai_pk/workflow.py:28: SettingWithCopyWarning: \n",
      "A value is trying to be set on a copy of a slice from a DataFrame.\n",
      "Try using .loc[row_indexer,col_indexer] = value instead\n",
      "\n",
      "See the caveats in the documentation: https://pandas.pydata.org/pandas-docs/stable/user_guide/indexing.html#returning-a-view-versus-a-copy\n",
      "  df['dir'] = data['dir']['link']\n",
      "/Users/eugene/PycharmProjects/mai_pk/workflow.py:28: SettingWithCopyWarning: \n",
      "A value is trying to be set on a copy of a slice from a DataFrame.\n",
      "Try using .loc[row_indexer,col_indexer] = value instead\n",
      "\n",
      "See the caveats in the documentation: https://pandas.pydata.org/pandas-docs/stable/user_guide/indexing.html#returning-a-view-versus-a-copy\n",
      "  df['dir'] = data['dir']['link']\n",
      "/Users/eugene/PycharmProjects/mai_pk/workflow.py:28: SettingWithCopyWarning: \n",
      "A value is trying to be set on a copy of a slice from a DataFrame.\n",
      "Try using .loc[row_indexer,col_indexer] = value instead\n",
      "\n",
      "See the caveats in the documentation: https://pandas.pydata.org/pandas-docs/stable/user_guide/indexing.html#returning-a-view-versus-a-copy\n",
      "  df['dir'] = data['dir']['link']\n",
      "/Users/eugene/PycharmProjects/mai_pk/workflow.py:28: SettingWithCopyWarning: \n",
      "A value is trying to be set on a copy of a slice from a DataFrame.\n",
      "Try using .loc[row_indexer,col_indexer] = value instead\n",
      "\n",
      "See the caveats in the documentation: https://pandas.pydata.org/pandas-docs/stable/user_guide/indexing.html#returning-a-view-versus-a-copy\n",
      "  df['dir'] = data['dir']['link']\n",
      "/Users/eugene/PycharmProjects/mai_pk/workflow.py:28: SettingWithCopyWarning: \n",
      "A value is trying to be set on a copy of a slice from a DataFrame.\n",
      "Try using .loc[row_indexer,col_indexer] = value instead\n",
      "\n",
      "See the caveats in the documentation: https://pandas.pydata.org/pandas-docs/stable/user_guide/indexing.html#returning-a-view-versus-a-copy\n",
      "  df['dir'] = data['dir']['link']\n",
      "/Users/eugene/PycharmProjects/mai_pk/workflow.py:28: SettingWithCopyWarning: \n",
      "A value is trying to be set on a copy of a slice from a DataFrame.\n",
      "Try using .loc[row_indexer,col_indexer] = value instead\n",
      "\n",
      "See the caveats in the documentation: https://pandas.pydata.org/pandas-docs/stable/user_guide/indexing.html#returning-a-view-versus-a-copy\n",
      "  df['dir'] = data['dir']['link']\n",
      "/Users/eugene/PycharmProjects/mai_pk/workflow.py:28: SettingWithCopyWarning: \n",
      "A value is trying to be set on a copy of a slice from a DataFrame.\n",
      "Try using .loc[row_indexer,col_indexer] = value instead\n",
      "\n",
      "See the caveats in the documentation: https://pandas.pydata.org/pandas-docs/stable/user_guide/indexing.html#returning-a-view-versus-a-copy\n",
      "  df['dir'] = data['dir']['link']\n",
      "/Users/eugene/PycharmProjects/mai_pk/workflow.py:28: SettingWithCopyWarning: \n",
      "A value is trying to be set on a copy of a slice from a DataFrame.\n",
      "Try using .loc[row_indexer,col_indexer] = value instead\n",
      "\n",
      "See the caveats in the documentation: https://pandas.pydata.org/pandas-docs/stable/user_guide/indexing.html#returning-a-view-versus-a-copy\n",
      "  df['dir'] = data['dir']['link']\n",
      "/Users/eugene/PycharmProjects/mai_pk/workflow.py:28: SettingWithCopyWarning: \n",
      "A value is trying to be set on a copy of a slice from a DataFrame.\n",
      "Try using .loc[row_indexer,col_indexer] = value instead\n",
      "\n",
      "See the caveats in the documentation: https://pandas.pydata.org/pandas-docs/stable/user_guide/indexing.html#returning-a-view-versus-a-copy\n",
      "  df['dir'] = data['dir']['link']\n",
      "/Users/eugene/PycharmProjects/mai_pk/workflow.py:28: SettingWithCopyWarning: \n",
      "A value is trying to be set on a copy of a slice from a DataFrame.\n",
      "Try using .loc[row_indexer,col_indexer] = value instead\n",
      "\n",
      "See the caveats in the documentation: https://pandas.pydata.org/pandas-docs/stable/user_guide/indexing.html#returning-a-view-versus-a-copy\n",
      "  df['dir'] = data['dir']['link']\n",
      "/Users/eugene/PycharmProjects/mai_pk/workflow.py:28: SettingWithCopyWarning: \n",
      "A value is trying to be set on a copy of a slice from a DataFrame.\n",
      "Try using .loc[row_indexer,col_indexer] = value instead\n",
      "\n",
      "See the caveats in the documentation: https://pandas.pydata.org/pandas-docs/stable/user_guide/indexing.html#returning-a-view-versus-a-copy\n",
      "  df['dir'] = data['dir']['link']\n",
      "/Users/eugene/PycharmProjects/mai_pk/workflow.py:28: SettingWithCopyWarning: \n",
      "A value is trying to be set on a copy of a slice from a DataFrame.\n",
      "Try using .loc[row_indexer,col_indexer] = value instead\n",
      "\n",
      "See the caveats in the documentation: https://pandas.pydata.org/pandas-docs/stable/user_guide/indexing.html#returning-a-view-versus-a-copy\n",
      "  df['dir'] = data['dir']['link']\n",
      "/Users/eugene/PycharmProjects/mai_pk/workflow.py:28: SettingWithCopyWarning: \n",
      "A value is trying to be set on a copy of a slice from a DataFrame.\n",
      "Try using .loc[row_indexer,col_indexer] = value instead\n",
      "\n",
      "See the caveats in the documentation: https://pandas.pydata.org/pandas-docs/stable/user_guide/indexing.html#returning-a-view-versus-a-copy\n",
      "  df['dir'] = data['dir']['link']\n"
     ]
    },
    {
     "data": {
      "text/plain": "                snils  points   podl  priority                             dir\n41375  160-763-737 74     185  Копия         5   p20230728113015_1_l1_p1_f1_s7\n47191  160-763-737 74     185  Копия         1  p20230728113015_1_l1_p1_f1_s10\n54368  160-763-737 74     185  Копия         2  p20230728113015_1_l1_p1_f1_s15\n56641  160-763-737 74     185  Копия         3  p20230728113015_1_l1_p1_f1_s17\n57475  160-763-737 74     185  Копия         4  p20230728113015_1_l1_p1_f1_s18",
      "text/html": "<div>\n<style scoped>\n    .dataframe tbody tr th:only-of-type {\n        vertical-align: middle;\n    }\n\n    .dataframe tbody tr th {\n        vertical-align: top;\n    }\n\n    .dataframe thead th {\n        text-align: right;\n    }\n</style>\n<table border=\"1\" class=\"dataframe\">\n  <thead>\n    <tr style=\"text-align: right;\">\n      <th></th>\n      <th>snils</th>\n      <th>points</th>\n      <th>podl</th>\n      <th>priority</th>\n      <th>dir</th>\n    </tr>\n  </thead>\n  <tbody>\n    <tr>\n      <th>41375</th>\n      <td>160-763-737 74</td>\n      <td>185</td>\n      <td>Копия</td>\n      <td>5</td>\n      <td>p20230728113015_1_l1_p1_f1_s7</td>\n    </tr>\n    <tr>\n      <th>47191</th>\n      <td>160-763-737 74</td>\n      <td>185</td>\n      <td>Копия</td>\n      <td>1</td>\n      <td>p20230728113015_1_l1_p1_f1_s10</td>\n    </tr>\n    <tr>\n      <th>54368</th>\n      <td>160-763-737 74</td>\n      <td>185</td>\n      <td>Копия</td>\n      <td>2</td>\n      <td>p20230728113015_1_l1_p1_f1_s15</td>\n    </tr>\n    <tr>\n      <th>56641</th>\n      <td>160-763-737 74</td>\n      <td>185</td>\n      <td>Копия</td>\n      <td>3</td>\n      <td>p20230728113015_1_l1_p1_f1_s17</td>\n    </tr>\n    <tr>\n      <th>57475</th>\n      <td>160-763-737 74</td>\n      <td>185</td>\n      <td>Копия</td>\n      <td>4</td>\n      <td>p20230728113015_1_l1_p1_f1_s18</td>\n    </tr>\n  </tbody>\n</table>\n</div>"
     },
     "execution_count": 7,
     "metadata": {},
     "output_type": "execute_result"
    }
   ],
   "source": [
    "from workflow import get_all_guys,get_all_guys2,aggregate_guys,get_target_dict, fill_directions, fill_directions2"
   ],
   "metadata": {
    "collapsed": false,
    "ExecuteTime": {
     "end_time": "2023-07-28T11:46:27.671271Z",
     "start_time": "2023-07-28T11:46:27.437477Z"
    }
   }
  },
  {
   "cell_type": "code",
   "execution_count": 8,
   "outputs": [],
   "source": [
    "df_all_guys = get_all_guys2(target_data)\n",
    "df_all_guys[df_all_guys['snils']=='160-763-737 74']"
   ],
   "metadata": {
    "collapsed": false,
    "ExecuteTime": {
     "end_time": "2023-07-28T11:46:29.872545Z",
     "start_time": "2023-07-28T11:46:29.628080Z"
    }
   }
  },
  {
   "cell_type": "code",
   "execution_count": 9,
   "outputs": [
    {
     "data": {
      "text/plain": "      points           snils   podl  \\\n1525     185  160-763-737 74  Копия   \n\n                                          dirs_priority  \n1525  [{'priority': 1, 'dir': 'p20230728113015_1_l1_...  ",
      "text/html": "<div>\n<style scoped>\n    .dataframe tbody tr th:only-of-type {\n        vertical-align: middle;\n    }\n\n    .dataframe tbody tr th {\n        vertical-align: top;\n    }\n\n    .dataframe thead th {\n        text-align: right;\n    }\n</style>\n<table border=\"1\" class=\"dataframe\">\n  <thead>\n    <tr style=\"text-align: right;\">\n      <th></th>\n      <th>points</th>\n      <th>snils</th>\n      <th>podl</th>\n      <th>dirs_priority</th>\n    </tr>\n  </thead>\n  <tbody>\n    <tr>\n      <th>1525</th>\n      <td>185</td>\n      <td>160-763-737 74</td>\n      <td>Копия</td>\n      <td>[{'priority': 1, 'dir': 'p20230728113015_1_l1_...</td>\n    </tr>\n  </tbody>\n</table>\n</div>"
     },
     "execution_count": 9,
     "metadata": {},
     "output_type": "execute_result"
    }
   ],
   "source": [
    "df_aggr = aggregate_guys(df_all_guys)\n",
    "ONLY_PODLINNIK = True\n",
    "all_guys_aggr = get_target_dict(df_aggr,ONLY_PODLINNIK)"
   ],
   "metadata": {
    "collapsed": false,
    "ExecuteTime": {
     "end_time": "2023-07-28T11:46:30.771042Z",
     "start_time": "2023-07-28T11:46:30.757060Z"
    }
   }
  },
  {
   "cell_type": "code",
   "execution_count": 10,
   "outputs": [],
   "source": [
    "df_aggr[df_aggr['snils']=='160-763-737 74']"
   ],
   "metadata": {
    "collapsed": false,
    "ExecuteTime": {
     "end_time": "2023-07-28T11:46:31.443108Z",
     "start_time": "2023-07-28T11:46:31.426634Z"
    }
   }
  },
  {
   "cell_type": "code",
   "execution_count": 11,
   "outputs": [],
   "source": [
    "listUniversityDirection = fill_directions2(target_data, all_guys_aggr)"
   ],
   "metadata": {
    "collapsed": false,
    "ExecuteTime": {
     "end_time": "2023-07-28T11:46:32.980031Z",
     "start_time": "2023-07-28T11:46:32.968085Z"
    }
   }
  },
  {
   "cell_type": "code",
   "execution_count": 12,
   "outputs": [
    {
     "name": "stdout",
     "output_type": "stream",
     "text": [
      "Направление p20230728113015_1_l1_p1_f1_s7 - 09.03.04 Программная инженерия будет иметь минимальный балл 253\n",
      "Направление p20230728113015_1_l1_p1_f1_s10 - 11.03.01 Радиотехника будет иметь минимальный балл 216\n",
      "Направление p20230728113015_1_l1_p1_f1_s15 - 13.03.02 Электроэнергетика и электротехника будет иметь минимальный балл 213\n",
      "Направление p20230728113015_1_l1_p1_f1_s17 - 20.03.01 Техносферная безопасность будет иметь минимальный балл 205\n",
      "Направление p20230728113015_1_l1_p1_f1_s18 - 22.03.00 Новые материалы и цифровые технологии будет иметь минимальный балл 212\n",
      "Направление p20230728113015_1_l1_p3_f1_s7 - 09.03.04 Программная инженерия будет иметь минимальный балл -1\n",
      "Направление p20230728113015_5_l1_p1_f1_s34 - 22.03.01 Материаловедение и технологии материалов будет иметь минимальный балл 161\n",
      "Направление p20230728113015_5_l1_p3_f1_s34 - 22.03.01 Материаловедение и технологии материалов будет иметь минимальный балл -1\n"
     ]
    }
   ],
   "source": [
    "from log_results import print_min_points, print_min_points2"
   ],
   "metadata": {
    "collapsed": false,
    "ExecuteTime": {
     "end_time": "2023-07-28T11:46:33.565678Z",
     "start_time": "2023-07-28T11:46:33.550123Z"
    }
   }
  },
  {
   "cell_type": "code",
   "execution_count": 16,
   "outputs": [
    {
     "data": {
      "text/plain": "             snils  points              podl  priority\n0   184-573-298 08     250         Подлинник         2\n1   175-261-004 49     249         Подлинник         1\n2   195-450-595 01     238         Подлинник         3\n3   195-339-981 27     237         Подлинник         4\n4   174-737-611 98     235         Подлинник         1\n5   171-065-079 44     233  Подлинник (ЕПГУ)         5\n6   170-934-360 70     232         Подлинник         4\n7   182-027-483 55     232         Подлинник         2\n8   195-993-893 70     229         Подлинник         1\n9   192-378-278 06     226         Подлинник         4\n10  183-798-475 42     224         Подлинник         5\n11  167-471-395 00     223         Подлинник         4\n12  189-913-030 11     223  Подлинник (ЕПГУ)         5\n13  154-624-341 56     222         Подлинник         1\n14  172-261-703 48     222  Подлинник (ЕПГУ)         4\n15  185-378-752 24     222  Подлинник (ЕПГУ)         4\n16  157-356-397 98     221         Подлинник         6\n17  189-736-580 46     220  Подлинник (ЕПГУ)         3\n18  164-770-249 84     219         Подлинник         4\n19  160-481-650 52     218  Подлинник (ЕПГУ)         2\n20  184-597-049 19     218  Подлинник (ЕПГУ)         3\n21  205-008-607 09     218         Подлинник         5\n22  163-577-541 94     217         Подлинник         3\n23  166-252-168 66     217  Подлинник (ЕПГУ)         3\n24  177-519-465 12     217         Подлинник         7\n25  179-361-513 99     217         Подлинник         5\n26  188-225-040 78     217  Подлинник (ЕПГУ)         1\n27  157-277-067 91     216  Подлинник (ЕПГУ)         1\n28  187-829-419 37     216  Подлинник (ЕПГУ)         1\n29  196-779-875 77     216         Подлинник         2",
      "text/html": "<div>\n<style scoped>\n    .dataframe tbody tr th:only-of-type {\n        vertical-align: middle;\n    }\n\n    .dataframe tbody tr th {\n        vertical-align: top;\n    }\n\n    .dataframe thead th {\n        text-align: right;\n    }\n</style>\n<table border=\"1\" class=\"dataframe\">\n  <thead>\n    <tr style=\"text-align: right;\">\n      <th></th>\n      <th>snils</th>\n      <th>points</th>\n      <th>podl</th>\n      <th>priority</th>\n    </tr>\n  </thead>\n  <tbody>\n    <tr>\n      <th>0</th>\n      <td>184-573-298 08</td>\n      <td>250</td>\n      <td>Подлинник</td>\n      <td>2</td>\n    </tr>\n    <tr>\n      <th>1</th>\n      <td>175-261-004 49</td>\n      <td>249</td>\n      <td>Подлинник</td>\n      <td>1</td>\n    </tr>\n    <tr>\n      <th>2</th>\n      <td>195-450-595 01</td>\n      <td>238</td>\n      <td>Подлинник</td>\n      <td>3</td>\n    </tr>\n    <tr>\n      <th>3</th>\n      <td>195-339-981 27</td>\n      <td>237</td>\n      <td>Подлинник</td>\n      <td>4</td>\n    </tr>\n    <tr>\n      <th>4</th>\n      <td>174-737-611 98</td>\n      <td>235</td>\n      <td>Подлинник</td>\n      <td>1</td>\n    </tr>\n    <tr>\n      <th>5</th>\n      <td>171-065-079 44</td>\n      <td>233</td>\n      <td>Подлинник (ЕПГУ)</td>\n      <td>5</td>\n    </tr>\n    <tr>\n      <th>6</th>\n      <td>170-934-360 70</td>\n      <td>232</td>\n      <td>Подлинник</td>\n      <td>4</td>\n    </tr>\n    <tr>\n      <th>7</th>\n      <td>182-027-483 55</td>\n      <td>232</td>\n      <td>Подлинник</td>\n      <td>2</td>\n    </tr>\n    <tr>\n      <th>8</th>\n      <td>195-993-893 70</td>\n      <td>229</td>\n      <td>Подлинник</td>\n      <td>1</td>\n    </tr>\n    <tr>\n      <th>9</th>\n      <td>192-378-278 06</td>\n      <td>226</td>\n      <td>Подлинник</td>\n      <td>4</td>\n    </tr>\n    <tr>\n      <th>10</th>\n      <td>183-798-475 42</td>\n      <td>224</td>\n      <td>Подлинник</td>\n      <td>5</td>\n    </tr>\n    <tr>\n      <th>11</th>\n      <td>167-471-395 00</td>\n      <td>223</td>\n      <td>Подлинник</td>\n      <td>4</td>\n    </tr>\n    <tr>\n      <th>12</th>\n      <td>189-913-030 11</td>\n      <td>223</td>\n      <td>Подлинник (ЕПГУ)</td>\n      <td>5</td>\n    </tr>\n    <tr>\n      <th>13</th>\n      <td>154-624-341 56</td>\n      <td>222</td>\n      <td>Подлинник</td>\n      <td>1</td>\n    </tr>\n    <tr>\n      <th>14</th>\n      <td>172-261-703 48</td>\n      <td>222</td>\n      <td>Подлинник (ЕПГУ)</td>\n      <td>4</td>\n    </tr>\n    <tr>\n      <th>15</th>\n      <td>185-378-752 24</td>\n      <td>222</td>\n      <td>Подлинник (ЕПГУ)</td>\n      <td>4</td>\n    </tr>\n    <tr>\n      <th>16</th>\n      <td>157-356-397 98</td>\n      <td>221</td>\n      <td>Подлинник</td>\n      <td>6</td>\n    </tr>\n    <tr>\n      <th>17</th>\n      <td>189-736-580 46</td>\n      <td>220</td>\n      <td>Подлинник (ЕПГУ)</td>\n      <td>3</td>\n    </tr>\n    <tr>\n      <th>18</th>\n      <td>164-770-249 84</td>\n      <td>219</td>\n      <td>Подлинник</td>\n      <td>4</td>\n    </tr>\n    <tr>\n      <th>19</th>\n      <td>160-481-650 52</td>\n      <td>218</td>\n      <td>Подлинник (ЕПГУ)</td>\n      <td>2</td>\n    </tr>\n    <tr>\n      <th>20</th>\n      <td>184-597-049 19</td>\n      <td>218</td>\n      <td>Подлинник (ЕПГУ)</td>\n      <td>3</td>\n    </tr>\n    <tr>\n      <th>21</th>\n      <td>205-008-607 09</td>\n      <td>218</td>\n      <td>Подлинник</td>\n      <td>5</td>\n    </tr>\n    <tr>\n      <th>22</th>\n      <td>163-577-541 94</td>\n      <td>217</td>\n      <td>Подлинник</td>\n      <td>3</td>\n    </tr>\n    <tr>\n      <th>23</th>\n      <td>166-252-168 66</td>\n      <td>217</td>\n      <td>Подлинник (ЕПГУ)</td>\n      <td>3</td>\n    </tr>\n    <tr>\n      <th>24</th>\n      <td>177-519-465 12</td>\n      <td>217</td>\n      <td>Подлинник</td>\n      <td>7</td>\n    </tr>\n    <tr>\n      <th>25</th>\n      <td>179-361-513 99</td>\n      <td>217</td>\n      <td>Подлинник</td>\n      <td>5</td>\n    </tr>\n    <tr>\n      <th>26</th>\n      <td>188-225-040 78</td>\n      <td>217</td>\n      <td>Подлинник (ЕПГУ)</td>\n      <td>1</td>\n    </tr>\n    <tr>\n      <th>27</th>\n      <td>157-277-067 91</td>\n      <td>216</td>\n      <td>Подлинник (ЕПГУ)</td>\n      <td>1</td>\n    </tr>\n    <tr>\n      <th>28</th>\n      <td>187-829-419 37</td>\n      <td>216</td>\n      <td>Подлинник (ЕПГУ)</td>\n      <td>1</td>\n    </tr>\n    <tr>\n      <th>29</th>\n      <td>196-779-875 77</td>\n      <td>216</td>\n      <td>Подлинник</td>\n      <td>2</td>\n    </tr>\n  </tbody>\n</table>\n</div>"
     },
     "execution_count": 16,
     "metadata": {},
     "output_type": "execute_result"
    }
   ],
   "source": [
    "print_min_points2(listUniversityDirection, \"09.03.04,11.03.01,13.03.02,22.03.01,20.03.01,22.03.00\")"
   ],
   "metadata": {
    "collapsed": false,
    "ExecuteTime": {
     "end_time": "2023-07-28T11:46:54.032287Z",
     "start_time": "2023-07-28T11:46:54.014192Z"
    }
   }
  },
  {
   "cell_type": "code",
   "execution_count": 17,
   "outputs": [
    {
     "data": {
      "text/plain": "                snils  points       podl  priority  \\\n767    195-339-981 27     237  Подлинник         1   \n65507  195-339-981 27     237  Подлинник         2   \n14218  195-339-981 27     237  Подлинник         3   \n45724  195-339-981 27     237  Подлинник         4   \n\n                                  dir  \\\n767    p20230728113015_1_l3_p1_f1_s19   \n65507  p20230728113015_1_l2_p1_f1_s13   \n14218  p20230728113015_1_l3_p1_f1_s24   \n45724  p20230728113015_1_l1_p1_f1_s10   \n\n                                           dirs_priority  \n767    {'priority': 1, 'dir': 'p20230728113015_1_l3_p...  \n65507  {'priority': 2, 'dir': 'p20230728113015_1_l2_p...  \n14218  {'priority': 3, 'dir': 'p20230728113015_1_l3_p...  \n45724  {'priority': 4, 'dir': 'p20230728113015_1_l1_p...  ",
      "text/html": "<div>\n<style scoped>\n    .dataframe tbody tr th:only-of-type {\n        vertical-align: middle;\n    }\n\n    .dataframe tbody tr th {\n        vertical-align: top;\n    }\n\n    .dataframe thead th {\n        text-align: right;\n    }\n</style>\n<table border=\"1\" class=\"dataframe\">\n  <thead>\n    <tr style=\"text-align: right;\">\n      <th></th>\n      <th>snils</th>\n      <th>points</th>\n      <th>podl</th>\n      <th>priority</th>\n      <th>dir</th>\n      <th>dirs_priority</th>\n    </tr>\n  </thead>\n  <tbody>\n    <tr>\n      <th>767</th>\n      <td>195-339-981 27</td>\n      <td>237</td>\n      <td>Подлинник</td>\n      <td>1</td>\n      <td>p20230728113015_1_l3_p1_f1_s19</td>\n      <td>{'priority': 1, 'dir': 'p20230728113015_1_l3_p...</td>\n    </tr>\n    <tr>\n      <th>65507</th>\n      <td>195-339-981 27</td>\n      <td>237</td>\n      <td>Подлинник</td>\n      <td>2</td>\n      <td>p20230728113015_1_l2_p1_f1_s13</td>\n      <td>{'priority': 2, 'dir': 'p20230728113015_1_l2_p...</td>\n    </tr>\n    <tr>\n      <th>14218</th>\n      <td>195-339-981 27</td>\n      <td>237</td>\n      <td>Подлинник</td>\n      <td>3</td>\n      <td>p20230728113015_1_l3_p1_f1_s24</td>\n      <td>{'priority': 3, 'dir': 'p20230728113015_1_l3_p...</td>\n    </tr>\n    <tr>\n      <th>45724</th>\n      <td>195-339-981 27</td>\n      <td>237</td>\n      <td>Подлинник</td>\n      <td>4</td>\n      <td>p20230728113015_1_l1_p1_f1_s10</td>\n      <td>{'priority': 4, 'dir': 'p20230728113015_1_l1_p...</td>\n    </tr>\n  </tbody>\n</table>\n</div>"
     },
     "execution_count": 17,
     "metadata": {},
     "output_type": "execute_result"
    }
   ],
   "source": [
    "import pandas as pd\n",
    "pd.DataFrame(listUniversityDirection['p20230728103014_1_l1_p1_f1_s10'].students)"
   ],
   "metadata": {
    "collapsed": false,
    "ExecuteTime": {
     "end_time": "2023-07-28T11:46:55.135249Z",
     "start_time": "2023-07-28T11:46:55.116912Z"
    }
   }
  },
  {
   "cell_type": "code",
   "execution_count": 18,
   "outputs": [],
   "source": [
    "df_all_guys[df_all_guys['snils']=='195-339-981 27']"
   ],
   "metadata": {
    "collapsed": false,
    "ExecuteTime": {
     "end_time": "2023-07-28T11:46:55.851749Z",
     "start_time": "2023-07-28T11:46:55.838280Z"
    }
   }
  },
  {
   "cell_type": "code",
   "execution_count": 19,
   "outputs": [
    {
     "data": {
      "text/plain": "                              link  \\\n0   p20230728113015_1_l3_p1_f1_s19   \n5   p20230728113015_1_l3_p1_f1_s24   \n14  p20230728113015_1_l1_p1_f1_s10   \n67  p20230728113015_1_l2_p1_f1_s13   \n\n                                             name place  \\\n0                           24.03.04 Авиастроение   МАИ   \n5             24.05.07 Самолето-вертолетостроение   МАИ   \n14                          11.03.01 Радиотехника   МАИ   \n67  11.05.01 Радиоэлектронные системы и комплексы   МАИ   \n\n                         level     pay   form  places  min  \n0   Базовое высшее образование  Бюджет  очная      20  252  \n5   Базовое высшее образование  Бюджет  очная      31  256  \n14                 Бакалавриат  Бюджет  очная      30  216  \n67                 Специалитет  Бюджет  очная      11  238  ",
      "text/html": "<div>\n<style scoped>\n    .dataframe tbody tr th:only-of-type {\n        vertical-align: middle;\n    }\n\n    .dataframe tbody tr th {\n        vertical-align: top;\n    }\n\n    .dataframe thead th {\n        text-align: right;\n    }\n</style>\n<table border=\"1\" class=\"dataframe\">\n  <thead>\n    <tr style=\"text-align: right;\">\n      <th></th>\n      <th>link</th>\n      <th>name</th>\n      <th>place</th>\n      <th>level</th>\n      <th>pay</th>\n      <th>form</th>\n      <th>places</th>\n      <th>min</th>\n    </tr>\n  </thead>\n  <tbody>\n    <tr>\n      <th>0</th>\n      <td>p20230728113015_1_l3_p1_f1_s19</td>\n      <td>24.03.04 Авиастроение</td>\n      <td>МАИ</td>\n      <td>Базовое высшее образование</td>\n      <td>Бюджет</td>\n      <td>очная</td>\n      <td>20</td>\n      <td>252</td>\n    </tr>\n    <tr>\n      <th>5</th>\n      <td>p20230728113015_1_l3_p1_f1_s24</td>\n      <td>24.05.07 Самолето-вертолетостроение</td>\n      <td>МАИ</td>\n      <td>Базовое высшее образование</td>\n      <td>Бюджет</td>\n      <td>очная</td>\n      <td>31</td>\n      <td>256</td>\n    </tr>\n    <tr>\n      <th>14</th>\n      <td>p20230728113015_1_l1_p1_f1_s10</td>\n      <td>11.03.01 Радиотехника</td>\n      <td>МАИ</td>\n      <td>Бакалавриат</td>\n      <td>Бюджет</td>\n      <td>очная</td>\n      <td>30</td>\n      <td>216</td>\n    </tr>\n    <tr>\n      <th>67</th>\n      <td>p20230728113015_1_l2_p1_f1_s13</td>\n      <td>11.05.01 Радиоэлектронные системы и комплексы</td>\n      <td>МАИ</td>\n      <td>Специалитет</td>\n      <td>Бюджет</td>\n      <td>очная</td>\n      <td>11</td>\n      <td>238</td>\n    </tr>\n  </tbody>\n</table>\n</div>"
     },
     "execution_count": 19,
     "metadata": {},
     "output_type": "execute_result"
    }
   ],
   "source": [
    "from dataclasses import asdict"
   ],
   "metadata": {
    "collapsed": false,
    "ExecuteTime": {
     "end_time": "2023-07-28T11:46:57.243592Z",
     "start_time": "2023-07-28T11:46:56.948094Z"
    }
   }
  },
  {
   "cell_type": "code",
   "execution_count": 20,
   "outputs": [
    {
     "data": {
      "text/plain": "                              link  \\\n0   p20230728113015_1_l3_p1_f1_s19   \n1   p20230728113015_1_l3_p1_f1_s20   \n2   p20230728113015_1_l3_p1_f1_s21   \n3   p20230728113015_1_l3_p1_f1_s22   \n4   p20230728113015_1_l3_p1_f1_s23   \n..                             ...   \n85  p20230728113015_4_l1_p1_f1_s32   \n86  p20230728113015_4_l2_p1_f1_s13   \n87  p20230728113015_4_l2_p1_f1_s30   \n88  p20230728113015_4_l2_p1_f1_s23   \n89  p20230728113015_4_l2_p1_f1_s24   \n\n                                                 name                place  \\\n0                               24.03.04 Авиастроение                  МАИ   \n1   24.05.01 Проектирование, производство и эксплу...                  МАИ   \n2   24.05.02 Проектирование авиационных и ракетных...                  МАИ   \n3   24.05.05 Интегрированные системы летательных а...                  МАИ   \n4   24.05.06 Системы управления летательными аппар...                  МАИ   \n..                                                ...                  ...   \n85            24.03.03 Баллистика и гидроаэродинамика  Филиал \"Стрела МАИ\"   \n86      11.05.01 Радиоэлектронные системы и комплексы  Филиал \"Стрела МАИ\"   \n87           24.05.03 Испытание летательных аппаратов  Филиал \"Стрела МАИ\"   \n88  24.05.06 Системы управления летательными аппар...  Филиал \"Стрела МАИ\"   \n89                24.05.07 Самолето-вертолетостроение  Филиал \"Стрела МАИ\"   \n\n                         level     pay   form  places  min  \n0   Базовое высшее образование  Бюджет  очная      20  252  \n1   Базовое высшее образование  Бюджет  очная      55  239  \n2   Базовое высшее образование  Бюджет  очная      36  245  \n3   Базовое высшее образование  Бюджет  очная      99  225  \n4   Базовое высшее образование  Бюджет  очная      48  230  \n..                         ...     ...    ...     ...  ...  \n85                 Бакалавриат  Бюджет  очная      12  203  \n86                 Специалитет  Бюджет  очная       2  229  \n87                 Специалитет  Бюджет  очная       2  250  \n88                 Специалитет  Бюджет  очная       6  215  \n89                 Специалитет  Бюджет  очная       1  260  \n\n[90 rows x 8 columns]",
      "text/html": "<div>\n<style scoped>\n    .dataframe tbody tr th:only-of-type {\n        vertical-align: middle;\n    }\n\n    .dataframe tbody tr th {\n        vertical-align: top;\n    }\n\n    .dataframe thead th {\n        text-align: right;\n    }\n</style>\n<table border=\"1\" class=\"dataframe\">\n  <thead>\n    <tr style=\"text-align: right;\">\n      <th></th>\n      <th>link</th>\n      <th>name</th>\n      <th>place</th>\n      <th>level</th>\n      <th>pay</th>\n      <th>form</th>\n      <th>places</th>\n      <th>min</th>\n    </tr>\n  </thead>\n  <tbody>\n    <tr>\n      <th>0</th>\n      <td>p20230728113015_1_l3_p1_f1_s19</td>\n      <td>24.03.04 Авиастроение</td>\n      <td>МАИ</td>\n      <td>Базовое высшее образование</td>\n      <td>Бюджет</td>\n      <td>очная</td>\n      <td>20</td>\n      <td>252</td>\n    </tr>\n    <tr>\n      <th>1</th>\n      <td>p20230728113015_1_l3_p1_f1_s20</td>\n      <td>24.05.01 Проектирование, производство и эксплу...</td>\n      <td>МАИ</td>\n      <td>Базовое высшее образование</td>\n      <td>Бюджет</td>\n      <td>очная</td>\n      <td>55</td>\n      <td>239</td>\n    </tr>\n    <tr>\n      <th>2</th>\n      <td>p20230728113015_1_l3_p1_f1_s21</td>\n      <td>24.05.02 Проектирование авиационных и ракетных...</td>\n      <td>МАИ</td>\n      <td>Базовое высшее образование</td>\n      <td>Бюджет</td>\n      <td>очная</td>\n      <td>36</td>\n      <td>245</td>\n    </tr>\n    <tr>\n      <th>3</th>\n      <td>p20230728113015_1_l3_p1_f1_s22</td>\n      <td>24.05.05 Интегрированные системы летательных а...</td>\n      <td>МАИ</td>\n      <td>Базовое высшее образование</td>\n      <td>Бюджет</td>\n      <td>очная</td>\n      <td>99</td>\n      <td>225</td>\n    </tr>\n    <tr>\n      <th>4</th>\n      <td>p20230728113015_1_l3_p1_f1_s23</td>\n      <td>24.05.06 Системы управления летательными аппар...</td>\n      <td>МАИ</td>\n      <td>Базовое высшее образование</td>\n      <td>Бюджет</td>\n      <td>очная</td>\n      <td>48</td>\n      <td>230</td>\n    </tr>\n    <tr>\n      <th>...</th>\n      <td>...</td>\n      <td>...</td>\n      <td>...</td>\n      <td>...</td>\n      <td>...</td>\n      <td>...</td>\n      <td>...</td>\n      <td>...</td>\n    </tr>\n    <tr>\n      <th>85</th>\n      <td>p20230728113015_4_l1_p1_f1_s32</td>\n      <td>24.03.03 Баллистика и гидроаэродинамика</td>\n      <td>Филиал \"Стрела МАИ\"</td>\n      <td>Бакалавриат</td>\n      <td>Бюджет</td>\n      <td>очная</td>\n      <td>12</td>\n      <td>203</td>\n    </tr>\n    <tr>\n      <th>86</th>\n      <td>p20230728113015_4_l2_p1_f1_s13</td>\n      <td>11.05.01 Радиоэлектронные системы и комплексы</td>\n      <td>Филиал \"Стрела МАИ\"</td>\n      <td>Специалитет</td>\n      <td>Бюджет</td>\n      <td>очная</td>\n      <td>2</td>\n      <td>229</td>\n    </tr>\n    <tr>\n      <th>87</th>\n      <td>p20230728113015_4_l2_p1_f1_s30</td>\n      <td>24.05.03 Испытание летательных аппаратов</td>\n      <td>Филиал \"Стрела МАИ\"</td>\n      <td>Специалитет</td>\n      <td>Бюджет</td>\n      <td>очная</td>\n      <td>2</td>\n      <td>250</td>\n    </tr>\n    <tr>\n      <th>88</th>\n      <td>p20230728113015_4_l2_p1_f1_s23</td>\n      <td>24.05.06 Системы управления летательными аппар...</td>\n      <td>Филиал \"Стрела МАИ\"</td>\n      <td>Специалитет</td>\n      <td>Бюджет</td>\n      <td>очная</td>\n      <td>6</td>\n      <td>215</td>\n    </tr>\n    <tr>\n      <th>89</th>\n      <td>p20230728113015_4_l2_p1_f1_s24</td>\n      <td>24.05.07 Самолето-вертолетостроение</td>\n      <td>Филиал \"Стрела МАИ\"</td>\n      <td>Специалитет</td>\n      <td>Бюджет</td>\n      <td>очная</td>\n      <td>1</td>\n      <td>260</td>\n    </tr>\n  </tbody>\n</table>\n<p>90 rows × 8 columns</p>\n</div>"
     },
     "execution_count": 20,
     "metadata": {},
     "output_type": "execute_result"
    }
   ],
   "source": [
    "df_min_points = pd.DataFrame([dict(**asdict(x), min=x.get_min_points()) for x in listUniversityDirection.values()])\n",
    "del df_min_points['students']\n",
    "df_min_points[df_min_points['link'].apply(lambda x: True if x in df_all_guys[df_all_guys['snils'] == '195-339-981 27']['dir'].to_list() else False)]"
   ],
   "metadata": {
    "collapsed": false,
    "ExecuteTime": {
     "end_time": "2023-07-28T11:46:58.298719Z",
     "start_time": "2023-07-28T11:46:58.288113Z"
    }
   }
  },
  {
   "cell_type": "code",
   "execution_count": 75,
   "outputs": [
    {
     "data": {
      "text/plain": "                              link  \\\n0   p20230728103014_1_l3_p1_f1_s19   \n1   p20230728103014_1_l3_p1_f1_s20   \n2   p20230728103014_1_l3_p1_f1_s21   \n3   p20230728103014_1_l3_p1_f1_s22   \n4   p20230728103014_1_l3_p1_f1_s23   \n..                             ...   \n84  p20230728103014_4_l1_p1_f1_s32   \n85  p20230728103014_4_l2_p1_f1_s13   \n86  p20230728103014_4_l2_p1_f1_s30   \n87  p20230728103014_4_l2_p1_f1_s23   \n88  p20230728103014_4_l2_p1_f1_s24   \n\n                                                 name                place  \\\n0                               24.03.04 Авиастроение                  МАИ   \n1   24.05.01 Проектирование, производство и эксплу...                  МАИ   \n2   24.05.02 Проектирование авиационных и ракетных...                  МАИ   \n3   24.05.05 Интегрированные системы летательных а...                  МАИ   \n4   24.05.06 Системы управления летательными аппар...                  МАИ   \n..                                                ...                  ...   \n84            24.03.03 Баллистика и гидроаэродинамика  Филиал \"Стрела МАИ\"   \n85      11.05.01 Радиоэлектронные системы и комплексы  Филиал \"Стрела МАИ\"   \n86           24.05.03 Испытание летательных аппаратов  Филиал \"Стрела МАИ\"   \n87  24.05.06 Системы управления летательными аппар...  Филиал \"Стрела МАИ\"   \n88                24.05.07 Самолето-вертолетостроение  Филиал \"Стрела МАИ\"   \n\n                         level     pay   form  places  min  \n0   Базовое высшее образование  Бюджет  очная      20  252  \n1   Базовое высшее образование  Бюджет  очная      55  238  \n2   Базовое высшее образование  Бюджет  очная      36  244  \n3   Базовое высшее образование  Бюджет  очная      99  224  \n4   Базовое высшее образование  Бюджет  очная      48  230  \n..                         ...     ...    ...     ...  ...  \n84                 Бакалавриат  Бюджет  очная      12  203  \n85                 Специалитет  Бюджет  очная       2  229  \n86                 Специалитет  Бюджет  очная       2  250  \n87                 Специалитет  Бюджет  очная       6  215  \n88                 Специалитет  Бюджет  очная       1  260  \n\n[89 rows x 8 columns]",
      "text/html": "<div>\n<style scoped>\n    .dataframe tbody tr th:only-of-type {\n        vertical-align: middle;\n    }\n\n    .dataframe tbody tr th {\n        vertical-align: top;\n    }\n\n    .dataframe thead th {\n        text-align: right;\n    }\n</style>\n<table border=\"1\" class=\"dataframe\">\n  <thead>\n    <tr style=\"text-align: right;\">\n      <th></th>\n      <th>link</th>\n      <th>name</th>\n      <th>place</th>\n      <th>level</th>\n      <th>pay</th>\n      <th>form</th>\n      <th>places</th>\n      <th>min</th>\n    </tr>\n  </thead>\n  <tbody>\n    <tr>\n      <th>0</th>\n      <td>p20230728103014_1_l3_p1_f1_s19</td>\n      <td>24.03.04 Авиастроение</td>\n      <td>МАИ</td>\n      <td>Базовое высшее образование</td>\n      <td>Бюджет</td>\n      <td>очная</td>\n      <td>20</td>\n      <td>252</td>\n    </tr>\n    <tr>\n      <th>1</th>\n      <td>p20230728103014_1_l3_p1_f1_s20</td>\n      <td>24.05.01 Проектирование, производство и эксплу...</td>\n      <td>МАИ</td>\n      <td>Базовое высшее образование</td>\n      <td>Бюджет</td>\n      <td>очная</td>\n      <td>55</td>\n      <td>238</td>\n    </tr>\n    <tr>\n      <th>2</th>\n      <td>p20230728103014_1_l3_p1_f1_s21</td>\n      <td>24.05.02 Проектирование авиационных и ракетных...</td>\n      <td>МАИ</td>\n      <td>Базовое высшее образование</td>\n      <td>Бюджет</td>\n      <td>очная</td>\n      <td>36</td>\n      <td>244</td>\n    </tr>\n    <tr>\n      <th>3</th>\n      <td>p20230728103014_1_l3_p1_f1_s22</td>\n      <td>24.05.05 Интегрированные системы летательных а...</td>\n      <td>МАИ</td>\n      <td>Базовое высшее образование</td>\n      <td>Бюджет</td>\n      <td>очная</td>\n      <td>99</td>\n      <td>224</td>\n    </tr>\n    <tr>\n      <th>4</th>\n      <td>p20230728103014_1_l3_p1_f1_s23</td>\n      <td>24.05.06 Системы управления летательными аппар...</td>\n      <td>МАИ</td>\n      <td>Базовое высшее образование</td>\n      <td>Бюджет</td>\n      <td>очная</td>\n      <td>48</td>\n      <td>230</td>\n    </tr>\n    <tr>\n      <th>...</th>\n      <td>...</td>\n      <td>...</td>\n      <td>...</td>\n      <td>...</td>\n      <td>...</td>\n      <td>...</td>\n      <td>...</td>\n      <td>...</td>\n    </tr>\n    <tr>\n      <th>84</th>\n      <td>p20230728103014_4_l1_p1_f1_s32</td>\n      <td>24.03.03 Баллистика и гидроаэродинамика</td>\n      <td>Филиал \"Стрела МАИ\"</td>\n      <td>Бакалавриат</td>\n      <td>Бюджет</td>\n      <td>очная</td>\n      <td>12</td>\n      <td>203</td>\n    </tr>\n    <tr>\n      <th>85</th>\n      <td>p20230728103014_4_l2_p1_f1_s13</td>\n      <td>11.05.01 Радиоэлектронные системы и комплексы</td>\n      <td>Филиал \"Стрела МАИ\"</td>\n      <td>Специалитет</td>\n      <td>Бюджет</td>\n      <td>очная</td>\n      <td>2</td>\n      <td>229</td>\n    </tr>\n    <tr>\n      <th>86</th>\n      <td>p20230728103014_4_l2_p1_f1_s30</td>\n      <td>24.05.03 Испытание летательных аппаратов</td>\n      <td>Филиал \"Стрела МАИ\"</td>\n      <td>Специалитет</td>\n      <td>Бюджет</td>\n      <td>очная</td>\n      <td>2</td>\n      <td>250</td>\n    </tr>\n    <tr>\n      <th>87</th>\n      <td>p20230728103014_4_l2_p1_f1_s23</td>\n      <td>24.05.06 Системы управления летательными аппар...</td>\n      <td>Филиал \"Стрела МАИ\"</td>\n      <td>Специалитет</td>\n      <td>Бюджет</td>\n      <td>очная</td>\n      <td>6</td>\n      <td>215</td>\n    </tr>\n    <tr>\n      <th>88</th>\n      <td>p20230728103014_4_l2_p1_f1_s24</td>\n      <td>24.05.07 Самолето-вертолетостроение</td>\n      <td>Филиал \"Стрела МАИ\"</td>\n      <td>Специалитет</td>\n      <td>Бюджет</td>\n      <td>очная</td>\n      <td>1</td>\n      <td>260</td>\n    </tr>\n  </tbody>\n</table>\n<p>89 rows × 8 columns</p>\n</div>"
     },
     "execution_count": 75,
     "metadata": {},
     "output_type": "execute_result"
    }
   ],
   "source": [
    "df_min_points"
   ],
   "metadata": {
    "collapsed": false,
    "ExecuteTime": {
     "end_time": "2023-07-28T11:32:36.442042Z",
     "start_time": "2023-07-28T11:32:36.396369Z"
    }
   }
  }
 ],
 "metadata": {
  "kernelspec": {
   "display_name": "Python 3",
   "language": "python",
   "name": "python3"
  },
  "language_info": {
   "codemirror_mode": {
    "name": "ipython",
    "version": 2
   },
   "file_extension": ".py",
   "mimetype": "text/x-python",
   "name": "python",
   "nbconvert_exporter": "python",
   "pygments_lexer": "ipython2",
   "version": "2.7.6"
  }
 },
 "nbformat": 4,
 "nbformat_minor": 0
}
